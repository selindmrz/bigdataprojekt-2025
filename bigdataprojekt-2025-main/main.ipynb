{
 "cells": [
  {
   "cell_type": "code",
   "execution_count": null,
   "metadata": {},
   "outputs": [],
   "source": [
    "import numpy as np          #Berechnung von Matrizen\n",
    "import random               #Generierung zufälliger Zahlen oder anderer zufälliger Operationen\n",
    "import matplotlib as plt    #Erstellung von Diagrammen\n",
    "import torch                #PyTorch Bibliothek \n",
    "import torch.nn as nn\n",
    "import torchvision          #Verarbeitung von Bildern\n",
    "from sklearn.model_selection import train_test_split\n",
    "from tensorflow.keras.preprocessing.image import load_img, img_to_array, ImageDataGenerator\n",
    "import os\n",
    "import pandas as pd\n",
    "import tensorflow as tf"
   ]
  },
  {
   "cell_type": "code",
   "execution_count": 22,
   "metadata": {},
   "outputs": [
    {
     "name": "stdout",
     "output_type": "stream",
     "text": [
      "x_train shape: (20000, 128, 128, 3)\n",
      "y_train shape: (20000,)\n",
      "x_test shape: (5000, 128, 128, 3)\n",
      "y_test shape: (5000,)\n"
     ]
    }
   ],
   "source": [
    "# Parameter definieren\n",
    "image_folder = \"train/\"  # Ordner mit den Bildern\n",
    "image_size = (128, 128)  # Zielgröße der Bilder\n",
    "\n",
    "# Listen für Bilder und Labels initialisieren\n",
    "images = []\n",
    "labels = []\n",
    "\n",
    "# Durch den Ordner iterieren und Bilder laden\n",
    "for filename in os.listdir(image_folder):\n",
    "            \n",
    "    # Pfad zum Bild erstellen\n",
    "    img_path = os.path.join(image_folder, filename)\n",
    "\n",
    "    # Bild laden und auf die Zielgröße skalieren\n",
    "    img = load_img(img_path, target_size=image_size)\n",
    "    img_array = img_to_array(img) / 255.0  # Normalisieren auf [0, 1]\n",
    "\n",
    "    # Bild hinzufügen\n",
    "    images.append(img_array)\n",
    "\n",
    "    # Label bestimmen (dog = 1, cat = 0)\n",
    "    if \"dog\" in filename.lower():\n",
    "        labels.append(1)\n",
    "    elif \"cat\" in filename.lower():\n",
    "        labels.append(0)\n",
    "\n",
    "\n",
    "# In NumPy-Arrays umwandeln\n",
    "images = np.array(images)\n",
    "labels = np.array(labels)\n",
    "\n",
    "# Daten in Trainings- und Validierungsdaten aufteilen\n",
    "x_train, x_test, y_train, y_test = train_test_split(images, labels, test_size=0.2, random_state=42)\n",
    "\n",
    "# Ergebnisse ausgeben\n",
    "print(\"x_train shape:\", x_train.shape)\n",
    "print(\"y_train shape:\", y_train.shape)\n",
    "print(\"x_test shape:\", x_test.shape)\n",
    "print(\"y_test shape:\", y_test.shape)"
   ]
  },
  {
   "cell_type": "code",
   "execution_count": 25,
   "metadata": {},
   "outputs": [
    {
     "name": "stdout",
     "output_type": "stream",
     "text": [
      "Epoch 1/20\n",
      "625/625 [==============================] - 100s 160ms/step - loss: 0.6451 - accuracy: 0.6063 - val_loss: 0.5575 - val_accuracy: 0.7148\n",
      "Epoch 2/20\n",
      "625/625 [==============================] - 99s 159ms/step - loss: 0.5459 - accuracy: 0.7224 - val_loss: 0.4802 - val_accuracy: 0.7816\n",
      "Epoch 3/20\n",
      "625/625 [==============================] - 99s 158ms/step - loss: 0.4666 - accuracy: 0.7819 - val_loss: 0.4459 - val_accuracy: 0.7870\n",
      "Epoch 4/20\n",
      "625/625 [==============================] - 100s 159ms/step - loss: 0.3954 - accuracy: 0.8226 - val_loss: 0.3997 - val_accuracy: 0.8146\n",
      "Epoch 5/20\n",
      "625/625 [==============================] - 98s 156ms/step - loss: 0.3457 - accuracy: 0.8493 - val_loss: 0.4288 - val_accuracy: 0.8030\n",
      "Epoch 6/20\n",
      "625/625 [==============================] - 97s 154ms/step - loss: 0.2947 - accuracy: 0.8734 - val_loss: 0.2716 - val_accuracy: 0.8904\n",
      "Epoch 7/20\n",
      "625/625 [==============================] - 97s 155ms/step - loss: 0.2581 - accuracy: 0.8901 - val_loss: 0.2527 - val_accuracy: 0.8934\n",
      "Epoch 8/20\n",
      "625/625 [==============================] - 96s 154ms/step - loss: 0.2291 - accuracy: 0.9043 - val_loss: 0.2418 - val_accuracy: 0.8966\n",
      "Epoch 9/20\n",
      "625/625 [==============================] - 99s 158ms/step - loss: 0.2083 - accuracy: 0.9125 - val_loss: 0.2326 - val_accuracy: 0.9026\n",
      "Epoch 10/20\n",
      "625/625 [==============================] - 95s 152ms/step - loss: 0.1899 - accuracy: 0.9198 - val_loss: 0.2404 - val_accuracy: 0.9026\n",
      "Epoch 11/20\n",
      "625/625 [==============================] - 93s 149ms/step - loss: 0.1701 - accuracy: 0.9304 - val_loss: 0.2215 - val_accuracy: 0.9084\n",
      "Epoch 12/20\n",
      "625/625 [==============================] - 93s 148ms/step - loss: 0.1545 - accuracy: 0.9359 - val_loss: 0.2159 - val_accuracy: 0.9148\n",
      "Epoch 13/20\n",
      "625/625 [==============================] - 93s 149ms/step - loss: 0.1413 - accuracy: 0.9442 - val_loss: 0.2098 - val_accuracy: 0.9158\n",
      "Epoch 14/20\n",
      "625/625 [==============================] - 94s 150ms/step - loss: 0.1260 - accuracy: 0.9509 - val_loss: 0.2180 - val_accuracy: 0.9156\n",
      "Epoch 15/20\n",
      "625/625 [==============================] - 97s 155ms/step - loss: 0.1244 - accuracy: 0.9499 - val_loss: 0.2399 - val_accuracy: 0.9156\n",
      "Epoch 16/20\n",
      "625/625 [==============================] - 95s 152ms/step - loss: 0.1104 - accuracy: 0.9556 - val_loss: 0.2238 - val_accuracy: 0.9200\n"
     ]
    }
   ],
   "source": [
    "# CNN-Modell\n",
    "model = tf.keras.Sequential([\n",
    "    tf.keras.layers.Input(shape=(128, 128, 3)),                     # Form der Eingabedaten: 128x128 Pixel, 3 Farbkanäle\n",
    "    tf.keras.layers.Conv2D(32, (3, 3), activation='relu'),          # 2D-Faltung zur Extraktion von Merkmalen; 32 Filter mit einer Größe von 3x3; ReLU-Aktivierungsfunktion\n",
    "    tf.keras.layers.MaxPooling2D((2, 2)),                           # Dimensionsreduktion; Pooling-Größe von 2x2\n",
    "    tf.keras.layers.Conv2D(64, (3, 3), activation='relu'),          \n",
    "    tf.keras.layers.MaxPooling2D((2, 2)),   \n",
    "    tf.keras.layers.Conv2D(128, (3, 3), activation='relu'),         \n",
    "    tf.keras.layers.MaxPooling2D((2, 2)),\n",
    "    tf.keras.layers.Conv2D(256, (3, 3), activation='relu'),\n",
    "    tf.keras.layers.MaxPooling2D((2, 2)),\n",
    "    tf.keras.layers.Dropout(0.5),\n",
    "    tf.keras.layers.Flatten(),                                      # Umwandlung der 2D-Ausgabe in ein 1D-Array\n",
    "    tf.keras.layers.Dropout(0.5),\n",
    "    tf.keras.layers.Dense(1, activation='sigmoid'),                  # 1 Ausgabeneuron; Sigmoid Aktivierungsfunktion \n",
    "])\n",
    "\n",
    "# Modell kompilieren\n",
    "model.compile(optimizer= 'adam',  # Optimierte Lernrate\n",
    "              loss='binary_crossentropy',\n",
    "              metrics=['accuracy'])\n",
    "\n",
    "\n",
    "# Trainingsstopp, sobald der Validierungsgenauigkeit beginnt zu sinken\n",
    "early_stopping = tf.keras.callbacks.EarlyStopping(\n",
    "    monitor='val_loss', patience=3, restore_best_weights=True)\n",
    "\n",
    "\n",
    "# Training starten\n",
    "EPOCHS = 20                              \n",
    "history = model.fit(\n",
    "    x_train, \n",
    "    y_train,  \n",
    "    epochs=EPOCHS,   \n",
    "    validation_data=(x_test, y_test),\n",
    "    callbacks=[early_stopping],\n",
    ")"
   ]
  },
  {
   "cell_type": "code",
   "execution_count": 26,
   "metadata": {},
   "outputs": [
    {
     "name": "stdout",
     "output_type": "stream",
     "text": [
      "Das Modell wurde erfolgreich gespeichert.\n"
     ]
    }
   ],
   "source": [
    "model.save('CNN_model.keras')\n",
    "print(\"Das Modell wurde erfolgreich gespeichert.\")"
   ]
  },
  {
   "cell_type": "code",
   "execution_count": 27,
   "metadata": {},
   "outputs": [
    {
     "name": "stdout",
     "output_type": "stream",
     "text": [
      "157/157 [==============================] - 7s 41ms/step\n",
      "Test Accuracy: 0.92\n",
      "Confusion Matrix:\n",
      "[[2318  197]\n",
      " [ 224 2261]]\n",
      "Classification Report:\n",
      "              precision    recall  f1-score   support\n",
      "\n",
      "         Cat       0.91      0.92      0.92      2515\n",
      "         Dog       0.92      0.91      0.91      2485\n",
      "\n",
      "    accuracy                           0.92      5000\n",
      "   macro avg       0.92      0.92      0.92      5000\n",
      "weighted avg       0.92      0.92      0.92      5000\n",
      "\n"
     ]
    },
    {
     "data": {
      "image/png": "[encoded data removed]",
      "text/plain": [
       "<Figure size 600x500 with 2 Axes>"
      ]
     },
     "metadata": {},
     "output_type": "display_data"
    }
   ],
   "source": [
    "import matplotlib.pyplot as plt\n",
    "import seaborn as sns\n",
    "from sklearn.metrics import accuracy_score, confusion_matrix, classification_report\n",
    "\n",
    "# Vorhersagen generieren\n",
    "predicted_labels = model.predict(x_test).round().astype(int).flatten()\n",
    "\n",
    "# Testgenauigkeit berechnen\n",
    "test_accuracy = accuracy_score(y_test, predicted_labels)\n",
    "print(f\"Test Accuracy: {test_accuracy:.2f}\")\n",
    "\n",
    "# Konfusionsmatrix berechnen\n",
    "conf_matrix = confusion_matrix(y_test, predicted_labels)\n",
    "print(\"Confusion Matrix:\")\n",
    "print(conf_matrix)\n",
    "\n",
    "# Klassifikationsbericht ausgeben\n",
    "class_report = classification_report(y_test, predicted_labels, target_names=['Cat', 'Dog'])\n",
    "print(\"Classification Report:\")\n",
    "print(class_report)\n",
    "\n",
    "# Konfusionsmatrix visualisieren\n",
    "plt.figure(figsize=(6, 5))\n",
    "sns.heatmap(conf_matrix, annot=True, fmt='d', cmap='Blues', xticklabels=['Cat', 'Dog'], yticklabels=['Cat', 'Dog'])\n",
    "plt.xlabel('Predicted')\n",
    "plt.ylabel('True')\n",
    "plt.title('Confusion Matrix')\n",
    "plt.show()\n"
   ]
  }
 ],
 "metadata": {
  "kernelspec": {
   "display_name": "Python (bigdataprojekt-2025)",
   "language": "python",
   "name": "bigdataprojekt-2025"
  },
  "language_info": {
   "codemirror_mode": {
    "name": "ipython",
    "version": 3
   },
   "file_extension": ".py",
   "mimetype": "text/x-python",
   "name": "python",
   "nbconvert_exporter": "python",
   "pygments_lexer": "ipython3",
   "version": "3.10.12"
  }
 },
 "nbformat": 4,
 "nbformat_minor": 2
}
